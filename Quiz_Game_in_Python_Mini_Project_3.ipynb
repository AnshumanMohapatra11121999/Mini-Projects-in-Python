{
  "nbformat": 4,
  "nbformat_minor": 0,
  "metadata": {
    "colab": {
      "provenance": [],
      "authorship_tag": "ABX9TyNJdxHsEOAxK1MsNo7wx8fC",
      "include_colab_link": true
    },
    "kernelspec": {
      "name": "python3",
      "display_name": "Python 3"
    },
    "language_info": {
      "name": "python"
    }
  },
  "cells": [
    {
      "cell_type": "markdown",
      "metadata": {
        "id": "view-in-github",
        "colab_type": "text"
      },
      "source": [
        "<a href=\"https://colab.research.google.com/github/AnshumanMohapatra11121999/Mini-Projects-in-Python/blob/main/Quiz_Game_in_Python_Mini_Project_3.ipynb\" target=\"_parent\"><img src=\"https://colab.research.google.com/assets/colab-badge.svg\" alt=\"Open In Colab\"/></a>"
      ]
    },
    {
      "cell_type": "code",
      "source": [
        "def check_guess(guess,answer):\n",
        "  global score\n",
        "  attempt=0\n",
        "  still_guess = True\n",
        "\n",
        "  while still_guess and attempt > 2:\n",
        "   if guess.lower() == answer.lower():\n",
        "    print(\"Correct Answer\")\n",
        "    score +=1\n",
        "   else:\n",
        "    if attempt < 1:\n",
        "      still_guess = input(\"Sorry! wrong attempt please try again\")\n",
        "      attempt += 1\n",
        "\n",
        "  if attempt ==2:\n",
        "   guess=input(\"sorry , the correct answer is\",answer)\n",
        "   print()\n",
        "\n",
        "score = 0\n",
        "\n",
        "print(\"Guess the correct answer!\")\n",
        "\n",
        "guess1= input(\"What is the name of the fastest animal?\")\n",
        "check_guess(guess1,\"tiger\")\n",
        "guess2= input(\"How many seasons in Naruto shippudden?\")\n",
        "check_guess(guess2,\"17\")\n",
        "guess3= input(\"How many seasons in JUJUTSU KAISEN TILL NOW?\")\n",
        "check_guess(guess3,\"3\")\n",
        "guess4= input(\"How many seasons in Attack on Titan?\")\n",
        "check_guess(guess4,\"4\")\n",
        "guess5= input(\"How many seasons in Kingdoms of ruins\")\n",
        "check_guess(guess5,\"1\")\n",
        "\n",
        "print(\"Your Total Score is: \"+str(score))\n"
      ],
      "metadata": {
        "colab": {
          "base_uri": "https://localhost:8080/"
        },
        "id": "MmJlAiPay809",
        "outputId": "00229c56-0644-470d-a11c-7252d8457974"
      },
      "execution_count": 3,
      "outputs": [
        {
          "output_type": "stream",
          "name": "stdout",
          "text": [
            "Guess the correct answer!\n",
            "What is the name of the fastest animal?tiger\n",
            "How many seasons in Naruto shippudden?12\n",
            "How many seasons in JUJUTSU KAISEN TILL NOW?78\n",
            "How many seasons in Attack on Titan?89\n",
            "How many seasons in Kingdoms of ruins88\n",
            "Your Total Score is: 0\n"
          ]
        }
      ]
    }
  ]
}