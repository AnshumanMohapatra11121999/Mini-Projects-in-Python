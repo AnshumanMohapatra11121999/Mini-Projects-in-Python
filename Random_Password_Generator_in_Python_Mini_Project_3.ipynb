{
  "nbformat": 4,
  "nbformat_minor": 0,
  "metadata": {
    "colab": {
      "provenance": [],
      "authorship_tag": "ABX9TyMf/Q5//fhSEzwCqs7C+KJQ",
      "include_colab_link": true
    },
    "kernelspec": {
      "name": "python3",
      "display_name": "Python 3"
    },
    "language_info": {
      "name": "python"
    }
  },
  "cells": [
    {
      "cell_type": "markdown",
      "metadata": {
        "id": "view-in-github",
        "colab_type": "text"
      },
      "source": [
        "<a href=\"https://colab.research.google.com/github/AnshumanMohapatra11121999/Mini-Projects-in-Python/blob/main/Random_Password_Generator_in_Python_Mini_Project_3.ipynb\" target=\"_parent\"><img src=\"https://colab.research.google.com/assets/colab-badge.svg\" alt=\"Open In Colab\"/></a>"
      ]
    },
    {
      "cell_type": "code",
      "source": [
        "import string\n",
        "import random\n",
        "\n",
        "length=int(input(\"Enter the length of password: \"))\n",
        "print(\"\"\"\n",
        "     1:Digits\n",
        "     2:Letters\n",
        "     3:Punctuation\n",
        "     4:Exit\n",
        "\"\"\")#Triple quotation line is given here because you want to enter multi line string.\n",
        "\n",
        "chaterlist = \" \"\n",
        "\n",
        "while(True):\n",
        "  choice=int(input(\"Pick a Number\"))\n",
        "  if(choice==1):\n",
        "     chaterlist += string.digits\n",
        "  elif(choice==2):\n",
        "      chaterlist += string.ascii_letters\n",
        "  elif(choice==3):\n",
        "      chaterlist += string.punctuation\n",
        "  elif(choice==4):\n",
        "        break\n",
        "  else:\n",
        "       print(\"Enter a valid option\")\n",
        "\n",
        "\n",
        "  password = []\n",
        "\n",
        "  for i in range(length):\n",
        "    random_password = random.choice(chaterlist)\n",
        "    password.append(random_password)\n",
        "\n",
        "  print(\"Random password is:\".join(password))\n",
        ""
      ],
      "metadata": {
        "id": "64Jf1CFk2grr",
        "colab": {
          "base_uri": "https://localhost:8080/"
        },
        "outputId": "bc183c07-e9a1-4c2e-931b-2335e70d3fce"
      },
      "execution_count": null,
      "outputs": [
        {
          "output_type": "stream",
          "name": "stdout",
          "text": [
            "Enter the length of password: 4\n",
            "\n",
            "     1:Digits\n",
            "     2:Letters\n",
            "     3:Punctuation\n",
            "     4:Exit\n",
            "\n",
            "Pick a Number3\n",
            "@Random password is:'Random password is:~Random password is:,\n"
          ]
        }
      ]
    }
  ]
}