{
  "nbformat": 4,
  "nbformat_minor": 0,
  "metadata": {
    "colab": {
      "provenance": [],
      "authorship_tag": "ABX9TyPRl5Jt2MT/pF2GDrbnmZTJ",
      "include_colab_link": true
    },
    "kernelspec": {
      "name": "python3",
      "display_name": "Python 3"
    },
    "language_info": {
      "name": "python"
    }
  },
  "cells": [
    {
      "cell_type": "markdown",
      "metadata": {
        "id": "view-in-github",
        "colab_type": "text"
      },
      "source": [
        "<a href=\"https://colab.research.google.com/github/AnshumanMohapatra11121999/Mini-Projects-in-Python/blob/main/SimpleLanguage_Translator_in_Python_Mini_Project_1.ipynb\" target=\"_parent\"><img src=\"https://colab.research.google.com/assets/colab-badge.svg\" alt=\"Open In Colab\"/></a>"
      ]
    },
    {
      "cell_type": "code",
      "source": [
        "#Create a Simple Translator using python\n",
        "#Importing translate library\n",
        "!pip install translate\n",
        "#Now, we can create a  object of the Translator class and use it to translate text.\n",
        "from translate import Translator\n",
        "\n",
        "sentence=input(\"Enter the text to translate\")\n",
        "\n",
        "translator1 = Translator(to_lang=\"German\")\n",
        "translator2 = Translator(to_lang=\"French\")\n",
        "translator3 = Translator(to_lang=\"Hindi\")\n",
        "\n",
        "translation1 = translator1.translate(sentence)\n",
        "translation2 = translator2.translate(sentence)\n",
        "translation3 = translator3.translate(sentence)\n",
        "print(translation1)\n",
        "print(translation2)\n",
        "print(translation3)\n",
        "\n"
      ],
      "metadata": {
        "colab": {
          "base_uri": "https://localhost:8080/"
        },
        "id": "ulAJwWlzVl2S",
        "outputId": "19e23b73-20ca-47b1-e469-a12914f52c1b"
      },
      "execution_count": 9,
      "outputs": [
        {
          "output_type": "stream",
          "name": "stdout",
          "text": [
            "Requirement already satisfied: translate in /usr/local/lib/python3.10/dist-packages (3.6.1)\n",
            "Requirement already satisfied: click in /usr/local/lib/python3.10/dist-packages (from translate) (8.1.7)\n",
            "Requirement already satisfied: lxml in /usr/local/lib/python3.10/dist-packages (from translate) (4.9.3)\n",
            "Requirement already satisfied: requests in /usr/local/lib/python3.10/dist-packages (from translate) (2.31.0)\n",
            "Requirement already satisfied: libretranslatepy==2.1.1 in /usr/local/lib/python3.10/dist-packages (from translate) (2.1.1)\n",
            "Requirement already satisfied: charset-normalizer<4,>=2 in /usr/local/lib/python3.10/dist-packages (from requests->translate) (3.3.2)\n",
            "Requirement already satisfied: idna<4,>=2.5 in /usr/local/lib/python3.10/dist-packages (from requests->translate) (3.4)\n",
            "Requirement already satisfied: urllib3<3,>=1.21.1 in /usr/local/lib/python3.10/dist-packages (from requests->translate) (2.0.7)\n",
            "Requirement already satisfied: certifi>=2017.4.17 in /usr/local/lib/python3.10/dist-packages (from requests->translate) (2023.7.22)\n",
            "Enter the text to translateI am good\n",
            "Mir gehts gut.\n",
            "Je suis bon\n",
            "kaisi hai aap\n"
          ]
        }
      ]
    }
  ]
}